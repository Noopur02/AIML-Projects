{
 "cells": [
  {
   "cell_type": "markdown",
   "metadata": {},
   "source": [
    "# <center>Sentiment Analysis  <span style='color:Purple'>  </span>"
   ]
  },
  {
   "cell_type": "markdown",
   "metadata": {},
   "source": [
    "###  1: Importing Libraries"
   ]
  },
  {
   "cell_type": "code",
   "execution_count": 28,
   "metadata": {},
   "outputs": [
    {
     "name": "stderr",
     "output_type": "stream",
     "text": [
      "[nltk_data] Downloading package stopwords to\n",
      "[nltk_data]     /Users/noopur/nltk_data...\n",
      "[nltk_data]   Package stopwords is already up-to-date!\n",
      "[nltk_data] Downloading package averaged_perceptron_tagger to\n",
      "[nltk_data]     /Users/noopur/nltk_data...\n",
      "[nltk_data]   Package averaged_perceptron_tagger is already up-to-\n",
      "[nltk_data]       date!\n"
     ]
    }
   ],
   "source": [
    "import nltk\n",
    "import re\n",
    "import numpy as np\n",
    "import pandas as pd\n",
    "import gensim\n",
    "import gensim.corpora as corpora\n",
    "\n",
    "from nltk        import word_tokenize\n",
    "from nltk.corpus import stopwords\n",
    "from collections import Counter\n",
    "from operator    import itemgetter\n",
    "from sklearn.metrics import f1_score, accuracy_score\n",
    "from gensim.utils import simple_preprocess\n",
    "from pprint import pprint\n",
    "\n",
    "nltk.download('stopwords')\n",
    "nltk.download('averaged_perceptron_tagger')\n",
    "\n",
    "# For max displays\n",
    "pd.set_option('display.max_columns', None)\n",
    "pd.set_option('display.max_colwidth', None)\n",
    "\n",
    "# ignore warnings\n",
    "import warnings\n",
    "warnings.filterwarnings('ignore')\n",
    "\n",
    "from sklearn.feature_extraction.text import CountVectorizer\n",
    "from sklearn.feature_extraction.text import TfidfTransformer\n",
    "from sklearn.naive_bayes             import MultinomialNB\n",
    "from sklearn.pipeline                import Pipeline\n",
    "\n",
    "from sklearn.model_selection import GridSearchCV\n",
    "\n",
    "from sklearn.metrics import classification_report"
   ]
  },
  {
   "cell_type": "markdown",
   "metadata": {},
   "source": [
    "### 2: \n",
    "#### Read dataset  \n",
    "#### Perfom Text processing for the tweets \n",
    "  * Remove Stop words\n",
    "  * special characters  \n",
    "  * convert the text to lowercase"
   ]
  },
  {
   "cell_type": "code",
   "execution_count": 2,
   "metadata": {},
   "outputs": [],
   "source": [
    "import pandas as pd\n",
    "df = pd.read_csv('Corona_NLP_train.csv', encoding='latin1')"
   ]
  },
  {
   "cell_type": "code",
   "execution_count": 3,
   "metadata": {
    "scrolled": true
   },
   "outputs": [
    {
     "data": {
      "text/html": [
       "<div>\n",
       "<style scoped>\n",
       "    .dataframe tbody tr th:only-of-type {\n",
       "        vertical-align: middle;\n",
       "    }\n",
       "\n",
       "    .dataframe tbody tr th {\n",
       "        vertical-align: top;\n",
       "    }\n",
       "\n",
       "    .dataframe thead th {\n",
       "        text-align: right;\n",
       "    }\n",
       "</style>\n",
       "<table border=\"1\" class=\"dataframe\">\n",
       "  <thead>\n",
       "    <tr style=\"text-align: right;\">\n",
       "      <th></th>\n",
       "      <th>UserName</th>\n",
       "      <th>ScreenName</th>\n",
       "      <th>Location</th>\n",
       "      <th>TweetAt</th>\n",
       "      <th>OriginalTweet</th>\n",
       "      <th>Sentiment</th>\n",
       "    </tr>\n",
       "  </thead>\n",
       "  <tbody>\n",
       "    <tr>\n",
       "      <th>0</th>\n",
       "      <td>3799</td>\n",
       "      <td>48751</td>\n",
       "      <td>London</td>\n",
       "      <td>16-03-2020</td>\n",
       "      <td>@MeNyrbie @Phil_Gahan @Chrisitv https://t.co/iFz9FAn2Pa and https://t.co/xX6ghGFzCC and https://t.co/I2NlzdxNo8</td>\n",
       "      <td>Neutral</td>\n",
       "    </tr>\n",
       "    <tr>\n",
       "      <th>1</th>\n",
       "      <td>3800</td>\n",
       "      <td>48752</td>\n",
       "      <td>UK</td>\n",
       "      <td>16-03-2020</td>\n",
       "      <td>advice Talk to your neighbours family to exchange phone numbers create contact list with phone numbers of neighbours schools employer chemist GP set up online shopping accounts if poss adequate supplies of regular meds but not over order</td>\n",
       "      <td>Positive</td>\n",
       "    </tr>\n",
       "    <tr>\n",
       "      <th>2</th>\n",
       "      <td>3801</td>\n",
       "      <td>48753</td>\n",
       "      <td>Vagabonds</td>\n",
       "      <td>16-03-2020</td>\n",
       "      <td>Coronavirus Australia: Woolworths to give elderly, disabled dedicated shopping hours amid COVID-19 outbreak https://t.co/bInCA9Vp8P</td>\n",
       "      <td>Positive</td>\n",
       "    </tr>\n",
       "    <tr>\n",
       "      <th>3</th>\n",
       "      <td>3802</td>\n",
       "      <td>48754</td>\n",
       "      <td>NaN</td>\n",
       "      <td>16-03-2020</td>\n",
       "      <td>My food stock is not the only one which is empty...\\r\\r\\n\\r\\r\\nPLEASE, don't panic, THERE WILL BE ENOUGH FOOD FOR EVERYONE if you do not take more than you need. \\r\\r\\nStay calm, stay safe.\\r\\r\\n\\r\\r\\n#COVID19france #COVID_19 #COVID19 #coronavirus #confinement #Confinementotal #ConfinementGeneral https://t.co/zrlG0Z520j</td>\n",
       "      <td>Positive</td>\n",
       "    </tr>\n",
       "    <tr>\n",
       "      <th>4</th>\n",
       "      <td>3803</td>\n",
       "      <td>48755</td>\n",
       "      <td>NaN</td>\n",
       "      <td>16-03-2020</td>\n",
       "      <td>Me, ready to go at supermarket during the #COVID19 outbreak.\\r\\r\\n\\r\\r\\nNot because I'm paranoid, but because my food stock is litteraly empty. The #coronavirus is a serious thing, but please, don't panic. It causes shortage...\\r\\r\\n\\r\\r\\n#CoronavirusFrance #restezchezvous #StayAtHome #confinement https://t.co/usmuaLq72n</td>\n",
       "      <td>Extremely Negative</td>\n",
       "    </tr>\n",
       "    <tr>\n",
       "      <th>5</th>\n",
       "      <td>3804</td>\n",
       "      <td>48756</td>\n",
       "      <td>ÃT: 36.319708,-82.363649</td>\n",
       "      <td>16-03-2020</td>\n",
       "      <td>As news of the regionÂs first confirmed COVID-19 case came out of Sullivan County last week, people flocked to area stores to purchase cleaning supplies, hand sanitizer, food, toilet paper and other goods, @Tim_Dodson reports https://t.co/cfXch7a2lU</td>\n",
       "      <td>Positive</td>\n",
       "    </tr>\n",
       "    <tr>\n",
       "      <th>6</th>\n",
       "      <td>3805</td>\n",
       "      <td>48757</td>\n",
       "      <td>35.926541,-78.753267</td>\n",
       "      <td>16-03-2020</td>\n",
       "      <td>Cashier at grocery store was sharing his insights on #Covid_19 To prove his credibility he commented \"I'm in Civics class so I know what I'm talking about\". https://t.co/ieFDNeHgDO</td>\n",
       "      <td>Positive</td>\n",
       "    </tr>\n",
       "    <tr>\n",
       "      <th>7</th>\n",
       "      <td>3806</td>\n",
       "      <td>48758</td>\n",
       "      <td>Austria</td>\n",
       "      <td>16-03-2020</td>\n",
       "      <td>Was at the supermarket today. Didn't buy toilet paper. #Rebel\\r\\r\\n\\r\\r\\n#toiletpapercrisis #covid_19 https://t.co/eVXkQLIdAZ</td>\n",
       "      <td>Neutral</td>\n",
       "    </tr>\n",
       "    <tr>\n",
       "      <th>8</th>\n",
       "      <td>3807</td>\n",
       "      <td>48759</td>\n",
       "      <td>Atlanta, GA USA</td>\n",
       "      <td>16-03-2020</td>\n",
       "      <td>Due to COVID-19 our retail store and classroom in Atlanta will not be open for walk-in business or classes for the next two weeks, beginning Monday, March 16.  We will continue to process online and phone orders as normal! Thank you for your understanding! https://t.co/kw91zJ5O5i</td>\n",
       "      <td>Positive</td>\n",
       "    </tr>\n",
       "    <tr>\n",
       "      <th>9</th>\n",
       "      <td>3808</td>\n",
       "      <td>48760</td>\n",
       "      <td>BHAVNAGAR,GUJRAT</td>\n",
       "      <td>16-03-2020</td>\n",
       "      <td>For corona prevention,we should stop to buy things with the cash and should use online payment methods because corona can spread through the notes. Also we should prefer online shopping from our home. It's time to fight against COVID 19?. #govindia #IndiaFightsCorona</td>\n",
       "      <td>Negative</td>\n",
       "    </tr>\n",
       "  </tbody>\n",
       "</table>\n",
       "</div>"
      ],
      "text/plain": [
       "   UserName  ScreenName                   Location     TweetAt  \\\n",
       "0      3799       48751                     London  16-03-2020   \n",
       "1      3800       48752                         UK  16-03-2020   \n",
       "2      3801       48753                  Vagabonds  16-03-2020   \n",
       "3      3802       48754                        NaN  16-03-2020   \n",
       "4      3803       48755                        NaN  16-03-2020   \n",
       "5      3804       48756  ÃT: 36.319708,-82.363649  16-03-2020   \n",
       "6      3805       48757       35.926541,-78.753267  16-03-2020   \n",
       "7      3806       48758                    Austria  16-03-2020   \n",
       "8      3807       48759            Atlanta, GA USA  16-03-2020   \n",
       "9      3808       48760           BHAVNAGAR,GUJRAT  16-03-2020   \n",
       "\n",
       "                                                                                                                                                                                                                                                                                                                        OriginalTweet  \\\n",
       "0                                                                                                                                                                                                                     @MeNyrbie @Phil_Gahan @Chrisitv https://t.co/iFz9FAn2Pa and https://t.co/xX6ghGFzCC and https://t.co/I2NlzdxNo8   \n",
       "1                                                                                       advice Talk to your neighbours family to exchange phone numbers create contact list with phone numbers of neighbours schools employer chemist GP set up online shopping accounts if poss adequate supplies of regular meds but not over order   \n",
       "2                                                                                                                                                                                                 Coronavirus Australia: Woolworths to give elderly, disabled dedicated shopping hours amid COVID-19 outbreak https://t.co/bInCA9Vp8P   \n",
       "3   My food stock is not the only one which is empty...\\r\\r\\n\\r\\r\\nPLEASE, don't panic, THERE WILL BE ENOUGH FOOD FOR EVERYONE if you do not take more than you need. \\r\\r\\nStay calm, stay safe.\\r\\r\\n\\r\\r\\n#COVID19france #COVID_19 #COVID19 #coronavirus #confinement #Confinementotal #ConfinementGeneral https://t.co/zrlG0Z520j   \n",
       "4  Me, ready to go at supermarket during the #COVID19 outbreak.\\r\\r\\n\\r\\r\\nNot because I'm paranoid, but because my food stock is litteraly empty. The #coronavirus is a serious thing, but please, don't panic. It causes shortage...\\r\\r\\n\\r\\r\\n#CoronavirusFrance #restezchezvous #StayAtHome #confinement https://t.co/usmuaLq72n   \n",
       "5                                                                          As news of the regionÂs first confirmed COVID-19 case came out of Sullivan County last week, people flocked to area stores to purchase cleaning supplies, hand sanitizer, food, toilet paper and other goods, @Tim_Dodson reports https://t.co/cfXch7a2lU   \n",
       "6                                                                                                                                                Cashier at grocery store was sharing his insights on #Covid_19 To prove his credibility he commented \"I'm in Civics class so I know what I'm talking about\". https://t.co/ieFDNeHgDO   \n",
       "7                                                                                                                                                                                                       Was at the supermarket today. Didn't buy toilet paper. #Rebel\\r\\r\\n\\r\\r\\n#toiletpapercrisis #covid_19 https://t.co/eVXkQLIdAZ   \n",
       "8                                            Due to COVID-19 our retail store and classroom in Atlanta will not be open for walk-in business or classes for the next two weeks, beginning Monday, March 16.  We will continue to process online and phone orders as normal! Thank you for your understanding! https://t.co/kw91zJ5O5i   \n",
       "9                                                         For corona prevention,we should stop to buy things with the cash and should use online payment methods because corona can spread through the notes. Also we should prefer online shopping from our home. It's time to fight against COVID 19?. #govindia #IndiaFightsCorona   \n",
       "\n",
       "            Sentiment  \n",
       "0             Neutral  \n",
       "1            Positive  \n",
       "2            Positive  \n",
       "3            Positive  \n",
       "4  Extremely Negative  \n",
       "5            Positive  \n",
       "6            Positive  \n",
       "7             Neutral  \n",
       "8            Positive  \n",
       "9            Negative  "
      ]
     },
     "execution_count": 3,
     "metadata": {},
     "output_type": "execute_result"
    }
   ],
   "source": [
    "df.head(10)"
   ]
  },
  {
   "cell_type": "code",
   "execution_count": 4,
   "metadata": {},
   "outputs": [],
   "source": [
    "df.drop(['UserName','ScreenName','Location','TweetAt'], axis = 1, inplace = True)"
   ]
  },
  {
   "cell_type": "code",
   "execution_count": 5,
   "metadata": {},
   "outputs": [
    {
     "data": {
      "text/html": [
       "<div>\n",
       "<style scoped>\n",
       "    .dataframe tbody tr th:only-of-type {\n",
       "        vertical-align: middle;\n",
       "    }\n",
       "\n",
       "    .dataframe tbody tr th {\n",
       "        vertical-align: top;\n",
       "    }\n",
       "\n",
       "    .dataframe thead th {\n",
       "        text-align: right;\n",
       "    }\n",
       "</style>\n",
       "<table border=\"1\" class=\"dataframe\">\n",
       "  <thead>\n",
       "    <tr style=\"text-align: right;\">\n",
       "      <th></th>\n",
       "      <th>OriginalTweet</th>\n",
       "      <th>Sentiment</th>\n",
       "    </tr>\n",
       "  </thead>\n",
       "  <tbody>\n",
       "    <tr>\n",
       "      <th>0</th>\n",
       "      <td>@MeNyrbie @Phil_Gahan @Chrisitv https://t.co/iFz9FAn2Pa and https://t.co/xX6ghGFzCC and https://t.co/I2NlzdxNo8</td>\n",
       "      <td>Neutral</td>\n",
       "    </tr>\n",
       "    <tr>\n",
       "      <th>1</th>\n",
       "      <td>advice Talk to your neighbours family to exchange phone numbers create contact list with phone numbers of neighbours schools employer chemist GP set up online shopping accounts if poss adequate supplies of regular meds but not over order</td>\n",
       "      <td>Positive</td>\n",
       "    </tr>\n",
       "    <tr>\n",
       "      <th>2</th>\n",
       "      <td>Coronavirus Australia: Woolworths to give elderly, disabled dedicated shopping hours amid COVID-19 outbreak https://t.co/bInCA9Vp8P</td>\n",
       "      <td>Positive</td>\n",
       "    </tr>\n",
       "    <tr>\n",
       "      <th>3</th>\n",
       "      <td>My food stock is not the only one which is empty...\\r\\r\\n\\r\\r\\nPLEASE, don't panic, THERE WILL BE ENOUGH FOOD FOR EVERYONE if you do not take more than you need. \\r\\r\\nStay calm, stay safe.\\r\\r\\n\\r\\r\\n#COVID19france #COVID_19 #COVID19 #coronavirus #confinement #Confinementotal #ConfinementGeneral https://t.co/zrlG0Z520j</td>\n",
       "      <td>Positive</td>\n",
       "    </tr>\n",
       "    <tr>\n",
       "      <th>4</th>\n",
       "      <td>Me, ready to go at supermarket during the #COVID19 outbreak.\\r\\r\\n\\r\\r\\nNot because I'm paranoid, but because my food stock is litteraly empty. The #coronavirus is a serious thing, but please, don't panic. It causes shortage...\\r\\r\\n\\r\\r\\n#CoronavirusFrance #restezchezvous #StayAtHome #confinement https://t.co/usmuaLq72n</td>\n",
       "      <td>Extremely Negative</td>\n",
       "    </tr>\n",
       "  </tbody>\n",
       "</table>\n",
       "</div>"
      ],
      "text/plain": [
       "                                                                                                                                                                                                                                                                                                                        OriginalTweet  \\\n",
       "0                                                                                                                                                                                                                     @MeNyrbie @Phil_Gahan @Chrisitv https://t.co/iFz9FAn2Pa and https://t.co/xX6ghGFzCC and https://t.co/I2NlzdxNo8   \n",
       "1                                                                                       advice Talk to your neighbours family to exchange phone numbers create contact list with phone numbers of neighbours schools employer chemist GP set up online shopping accounts if poss adequate supplies of regular meds but not over order   \n",
       "2                                                                                                                                                                                                 Coronavirus Australia: Woolworths to give elderly, disabled dedicated shopping hours amid COVID-19 outbreak https://t.co/bInCA9Vp8P   \n",
       "3   My food stock is not the only one which is empty...\\r\\r\\n\\r\\r\\nPLEASE, don't panic, THERE WILL BE ENOUGH FOOD FOR EVERYONE if you do not take more than you need. \\r\\r\\nStay calm, stay safe.\\r\\r\\n\\r\\r\\n#COVID19france #COVID_19 #COVID19 #coronavirus #confinement #Confinementotal #ConfinementGeneral https://t.co/zrlG0Z520j   \n",
       "4  Me, ready to go at supermarket during the #COVID19 outbreak.\\r\\r\\n\\r\\r\\nNot because I'm paranoid, but because my food stock is litteraly empty. The #coronavirus is a serious thing, but please, don't panic. It causes shortage...\\r\\r\\n\\r\\r\\n#CoronavirusFrance #restezchezvous #StayAtHome #confinement https://t.co/usmuaLq72n   \n",
       "\n",
       "            Sentiment  \n",
       "0             Neutral  \n",
       "1            Positive  \n",
       "2            Positive  \n",
       "3            Positive  \n",
       "4  Extremely Negative  "
      ]
     },
     "execution_count": 5,
     "metadata": {},
     "output_type": "execute_result"
    }
   ],
   "source": [
    "df.head(5)"
   ]
  },
  {
   "cell_type": "code",
   "execution_count": 6,
   "metadata": {},
   "outputs": [
    {
     "data": {
      "text/plain": [
       "(41157, 2)"
      ]
     },
     "execution_count": 6,
     "metadata": {},
     "output_type": "execute_result"
    }
   ],
   "source": [
    "df.shape"
   ]
  },
  {
   "cell_type": "code",
   "execution_count": 7,
   "metadata": {},
   "outputs": [
    {
     "name": "stdout",
     "output_type": "stream",
     "text": [
      "<class 'pandas.core.frame.DataFrame'>\n",
      "RangeIndex: 41157 entries, 0 to 41156\n",
      "Data columns (total 2 columns):\n",
      " #   Column         Non-Null Count  Dtype \n",
      "---  ------         --------------  ----- \n",
      " 0   OriginalTweet  41157 non-null  object\n",
      " 1   Sentiment      41157 non-null  object\n",
      "dtypes: object(2)\n",
      "memory usage: 643.2+ KB\n"
     ]
    }
   ],
   "source": [
    "df.info()"
   ]
  },
  {
   "cell_type": "code",
   "execution_count": 8,
   "metadata": {},
   "outputs": [
    {
     "data": {
      "text/plain": [
       "0"
      ]
     },
     "execution_count": 8,
     "metadata": {},
     "output_type": "execute_result"
    }
   ],
   "source": [
    "df.duplicated().sum()"
   ]
  },
  {
   "cell_type": "code",
   "execution_count": 9,
   "metadata": {},
   "outputs": [],
   "source": [
    "stop = stopwords.words('english')"
   ]
  },
  {
   "cell_type": "code",
   "execution_count": 10,
   "metadata": {
    "scrolled": true
   },
   "outputs": [
    {
     "data": {
      "text/html": [
       "<div>\n",
       "<style scoped>\n",
       "    .dataframe tbody tr th:only-of-type {\n",
       "        vertical-align: middle;\n",
       "    }\n",
       "\n",
       "    .dataframe tbody tr th {\n",
       "        vertical-align: top;\n",
       "    }\n",
       "\n",
       "    .dataframe thead th {\n",
       "        text-align: right;\n",
       "    }\n",
       "</style>\n",
       "<table border=\"1\" class=\"dataframe\">\n",
       "  <thead>\n",
       "    <tr style=\"text-align: right;\">\n",
       "      <th></th>\n",
       "      <th>OriginalTweet</th>\n",
       "      <th>Sentiment</th>\n",
       "    </tr>\n",
       "  </thead>\n",
       "  <tbody>\n",
       "    <tr>\n",
       "      <th>0</th>\n",
       "      <td>@MeNyrbie @Phil_Gahan @Chrisitv https://.co/iFz9FAn2Pa  https://.co/xX6ghGFzCC  https://.co/I2NlzdxNo8</td>\n",
       "      <td>Neutral</td>\n",
       "    </tr>\n",
       "    <tr>\n",
       "      <th>1</th>\n",
       "      <td>advice Talk   neighbours family  exchange phone numbers create contact list  phone numbers  neighbours schools employer chemist GP set  online shopping accounts  poss adequate supplies  regular meds    order</td>\n",
       "      <td>Positive</td>\n",
       "    </tr>\n",
       "    <tr>\n",
       "      <th>2</th>\n",
       "      <td>Coronavirus Australia: Woolworths  give elderly, disabled dedicated shopping hours amid COVID-19 outbreak https://.co/bInCA9Vp8P</td>\n",
       "      <td>Positive</td>\n",
       "    </tr>\n",
       "    <tr>\n",
       "      <th>3</th>\n",
       "      <td>My food stock     one   empty...\\r\\r\\n\\r\\r\\nPLEASE, ' panic, THERE WILL BE ENOUGH FOOD FOR EVERYONE     take    need. \\r\\r\\nStay calm, stay safe.\\r\\r\\n\\r\\r\\n#COVID19france #COVID_19 #COVID19 #coronavirus #confinement #Confinementotal #ConfinementGeneral https://.co/zrlG0Z520j</td>\n",
       "      <td>Positive</td>\n",
       "    </tr>\n",
       "    <tr>\n",
       "      <th>4</th>\n",
       "      <td>Me, ready  go  supermarket   #COVID19 outbreak.\\r\\r\\n\\r\\r\\nNot  I' paranoid,    food stock  litteraly empty. The #coronavirus   serious thing,  please, ' panic. It causes shortage...\\r\\r\\n\\r\\r\\n#CoronavirusFrance #restezchezvous #StayAtHome #confinement https://.co/usmuaLq72n</td>\n",
       "      <td>Extremely Negative</td>\n",
       "    </tr>\n",
       "    <tr>\n",
       "      <th>5</th>\n",
       "      <td>As news   regionÂ first confirmed COVID-19 case came   Sullivan County last week, people flocked  area stores  purchase cleaning supplies, hand sanitizer, food, toilet paper   goods, @Tim_Dodson reports https://.co/cfXch7a2lU</td>\n",
       "      <td>Positive</td>\n",
       "    </tr>\n",
       "    <tr>\n",
       "      <th>6</th>\n",
       "      <td>Cashier  grocery store  sharing  insights  #Covid_19 To prove  credibility  commented \"I'  Civics class  I know  I' talking \". https://.co/ieFDNeHgDO</td>\n",
       "      <td>Positive</td>\n",
       "    </tr>\n",
       "    <tr>\n",
       "      <th>7</th>\n",
       "      <td>Was   supermarket today. Didn' buy toilet paper. #Rebel\\r\\r\\n\\r\\r\\n#toiletpapercrisis #covid_19 https://.co/eVXkQLIdAZ</td>\n",
       "      <td>Neutral</td>\n",
       "    </tr>\n",
       "    <tr>\n",
       "      <th>8</th>\n",
       "      <td>Due  COVID-19  retail store  classroom  Atlanta    open  walk- business  classes   next two weeks, beginning Monday, March 16.  We  continue  process online  phone orders  normal! Thank    understanding! https://.co/kw91zJ5O5i</td>\n",
       "      <td>Positive</td>\n",
       "    </tr>\n",
       "    <tr>\n",
       "      <th>9</th>\n",
       "      <td>For corona prevention,  stop  buy things   cash   use online payment methods  corona  spread   notes. Also   prefer online shopping   home. It' time  fight  COVID 19?. #govindia #IndiaFightsCorona</td>\n",
       "      <td>Negative</td>\n",
       "    </tr>\n",
       "    <tr>\n",
       "      <th>10</th>\n",
       "      <td>All month  '  crowding   supermarkets  restaurants, however reducing   hours  closing  malls means everyone   using   entrance  dependent   single supermarket. #manila #lockdown #covid2019 #Philippines https://.co/HxWs9LAnF9</td>\n",
       "      <td>Neutral</td>\n",
       "    </tr>\n",
       "    <tr>\n",
       "      <th>11</th>\n",
       "      <td>Due   Covid-19 situation,   increased demand   food products. \\r\\r\\n\\r\\r\\nThe wait time may  longer   online orders, particularly beef share  freezer packs. \\r\\r\\n\\r\\r\\nWe thank    patience   time.</td>\n",
       "      <td>Extremely Positive</td>\n",
       "    </tr>\n",
       "    <tr>\n",
       "      <th>12</th>\n",
       "      <td>#horningsea   caring community. LetÂ ALL look   less capable   village  ensure  stay healthy. Bringing shopping   doors, help  online shopping  self isolation    symptoms   exposed  somebody  . https://.co/lsGrXXhjhh</td>\n",
       "      <td>Extremely Positive</td>\n",
       "    </tr>\n",
       "    <tr>\n",
       "      <th>13</th>\n",
       "      <td>Me: I ' need  stock   food, I'   Amazon deliver whatever I need #CoronaVirus\\r\\r\\n\\r\\r\\nAmazon: https://.co/8YWaKFjExC</td>\n",
       "      <td>Positive</td>\n",
       "    </tr>\n",
       "    <tr>\n",
       "      <th>14</th>\n",
       "      <td>ADARA Releases COVID-19 Resource Center  Travel Brands: Insights Help Travel Brands Stay Up-To-Date  Consumer Travel Behavior Trends https://.co/PnA797jDKV https://.co/dQox6uSihz</td>\n",
       "      <td>Positive</td>\n",
       "    </tr>\n",
       "  </tbody>\n",
       "</table>\n",
       "</div>"
      ],
      "text/plain": [
       "                                                                                                                                                                                                                                                                           OriginalTweet  \\\n",
       "0                                                                                                                                                                                 @MeNyrbie @Phil_Gahan @Chrisitv https://.co/iFz9FAn2Pa  https://.co/xX6ghGFzCC  https://.co/I2NlzdxNo8   \n",
       "1                                                                        advice Talk   neighbours family  exchange phone numbers create contact list  phone numbers  neighbours schools employer chemist GP set  online shopping accounts  poss adequate supplies  regular meds    order   \n",
       "2                                                                                                                                                       Coronavirus Australia: Woolworths  give elderly, disabled dedicated shopping hours amid COVID-19 outbreak https://.co/bInCA9Vp8P   \n",
       "3   My food stock     one   empty...\\r\\r\\n\\r\\r\\nPLEASE, ' panic, THERE WILL BE ENOUGH FOOD FOR EVERYONE     take    need. \\r\\r\\nStay calm, stay safe.\\r\\r\\n\\r\\r\\n#COVID19france #COVID_19 #COVID19 #coronavirus #confinement #Confinementotal #ConfinementGeneral https://.co/zrlG0Z520j   \n",
       "4   Me, ready  go  supermarket   #COVID19 outbreak.\\r\\r\\n\\r\\r\\nNot  I' paranoid,    food stock  litteraly empty. The #coronavirus   serious thing,  please, ' panic. It causes shortage...\\r\\r\\n\\r\\r\\n#CoronavirusFrance #restezchezvous #StayAtHome #confinement https://.co/usmuaLq72n   \n",
       "5                                                     As news   regionÂ first confirmed COVID-19 case came   Sullivan County last week, people flocked  area stores  purchase cleaning supplies, hand sanitizer, food, toilet paper   goods, @Tim_Dodson reports https://.co/cfXch7a2lU   \n",
       "6                                                                                                                                  Cashier  grocery store  sharing  insights  #Covid_19 To prove  credibility  commented \"I'  Civics class  I know  I' talking \". https://.co/ieFDNeHgDO   \n",
       "7                                                                                                                                                                 Was   supermarket today. Didn' buy toilet paper. #Rebel\\r\\r\\n\\r\\r\\n#toiletpapercrisis #covid_19 https://.co/eVXkQLIdAZ   \n",
       "8                                                     Due  COVID-19  retail store  classroom  Atlanta    open  walk- business  classes   next two weeks, beginning Monday, March 16.  We  continue  process online  phone orders  normal! Thank    understanding! https://.co/kw91zJ5O5i   \n",
       "9                                                                                   For corona prevention,  stop  buy things   cash   use online payment methods  corona  spread   notes. Also   prefer online shopping   home. It' time  fight  COVID 19?. #govindia #IndiaFightsCorona   \n",
       "10                                                      All month  '  crowding   supermarkets  restaurants, however reducing   hours  closing  malls means everyone   using   entrance  dependent   single supermarket. #manila #lockdown #covid2019 #Philippines https://.co/HxWs9LAnF9   \n",
       "11                                                                                 Due   Covid-19 situation,   increased demand   food products. \\r\\r\\n\\r\\r\\nThe wait time may  longer   online orders, particularly beef share  freezer packs. \\r\\r\\n\\r\\r\\nWe thank    patience   time.   \n",
       "12                                                             #horningsea   caring community. LetÂ ALL look   less capable   village  ensure  stay healthy. Bringing shopping   doors, help  online shopping  self isolation    symptoms   exposed  somebody  . https://.co/lsGrXXhjhh   \n",
       "13                                                                                                                                                                Me: I ' need  stock   food, I'   Amazon deliver whatever I need #CoronaVirus\\r\\r\\n\\r\\r\\nAmazon: https://.co/8YWaKFjExC   \n",
       "14                                                                                                    ADARA Releases COVID-19 Resource Center  Travel Brands: Insights Help Travel Brands Stay Up-To-Date  Consumer Travel Behavior Trends https://.co/PnA797jDKV https://.co/dQox6uSihz   \n",
       "\n",
       "             Sentiment  \n",
       "0              Neutral  \n",
       "1             Positive  \n",
       "2             Positive  \n",
       "3             Positive  \n",
       "4   Extremely Negative  \n",
       "5             Positive  \n",
       "6             Positive  \n",
       "7              Neutral  \n",
       "8             Positive  \n",
       "9             Negative  \n",
       "10             Neutral  \n",
       "11  Extremely Positive  \n",
       "12  Extremely Positive  \n",
       "13            Positive  \n",
       "14            Positive  "
      ]
     },
     "execution_count": 10,
     "metadata": {},
     "output_type": "execute_result"
    }
   ],
   "source": [
    "for i in stop :\n",
    "    df = df.replace(to_replace=r'\\b%s\\b'%i, value=\"\",regex=True)\n",
    "\n",
    "df.head(15)"
   ]
  },
  {
   "cell_type": "code",
   "execution_count": 11,
   "metadata": {
    "scrolled": true
   },
   "outputs": [
    {
     "data": {
      "text/html": [
       "<div>\n",
       "<style scoped>\n",
       "    .dataframe tbody tr th:only-of-type {\n",
       "        vertical-align: middle;\n",
       "    }\n",
       "\n",
       "    .dataframe tbody tr th {\n",
       "        vertical-align: top;\n",
       "    }\n",
       "\n",
       "    .dataframe thead th {\n",
       "        text-align: right;\n",
       "    }\n",
       "</style>\n",
       "<table border=\"1\" class=\"dataframe\">\n",
       "  <thead>\n",
       "    <tr style=\"text-align: right;\">\n",
       "      <th></th>\n",
       "      <th>OriginalTweet</th>\n",
       "      <th>Sentiment</th>\n",
       "    </tr>\n",
       "  </thead>\n",
       "  <tbody>\n",
       "    <tr>\n",
       "      <th>0</th>\n",
       "      <td>MeNyrbie PhilGahan Chrisitv httpscoiFz9FAn2Pa  httpscoxX6ghGFzCC  httpscoI2NlzdxNo8</td>\n",
       "      <td>Neutral</td>\n",
       "    </tr>\n",
       "    <tr>\n",
       "      <th>1</th>\n",
       "      <td>advice Talk   neighbours family  exchange phone numbers create contact list  phone numbers  neighbours schools employer chemist GP set  online shopping accounts  poss adequate supplies  regular meds    order</td>\n",
       "      <td>Positive</td>\n",
       "    </tr>\n",
       "    <tr>\n",
       "      <th>2</th>\n",
       "      <td>Coronavirus Australia Woolworths  give elderly disabled dedicated shopping hours amid COVID19 outbreak httpscobInCA9Vp8P</td>\n",
       "      <td>Positive</td>\n",
       "    </tr>\n",
       "    <tr>\n",
       "      <th>3</th>\n",
       "      <td>My food stock     one   emptyPLEASE  panic THERE WILL BE ENOUGH FOOD FOR EVERYONE     take    need Stay calm stay safeCOVID19france COVID19 COVID19 coronavirus confinement Confinementotal ConfinementGeneral httpscozrlG0Z520j</td>\n",
       "      <td>Positive</td>\n",
       "    </tr>\n",
       "    <tr>\n",
       "      <th>4</th>\n",
       "      <td>Me ready  go  supermarket   COVID19 outbreakNot  I paranoid    food stock  litteraly empty The coronavirus   serious thing  please  panic It causes shortageCoronavirusFrance restezchezvous StayAtHome confinement httpscousmuaLq72n</td>\n",
       "      <td>Extremely Negative</td>\n",
       "    </tr>\n",
       "    <tr>\n",
       "      <th>5</th>\n",
       "      <td>As news   region first confirmed COVID19 case came   Sullivan County last week people flocked  area stores  purchase cleaning supplies hand sanitizer food toilet paper   goods TimDodson reports httpscocfXch7a2lU</td>\n",
       "      <td>Positive</td>\n",
       "    </tr>\n",
       "    <tr>\n",
       "      <th>6</th>\n",
       "      <td>Cashier  grocery store  sharing  insights  Covid19 To prove  credibility  commented I  Civics class  I know  I talking  httpscoieFDNeHgDO</td>\n",
       "      <td>Positive</td>\n",
       "    </tr>\n",
       "    <tr>\n",
       "      <th>7</th>\n",
       "      <td>Was   supermarket today Didn buy toilet paper Rebeltoiletpapercrisis covid19 httpscoeVXkQLIdAZ</td>\n",
       "      <td>Neutral</td>\n",
       "    </tr>\n",
       "    <tr>\n",
       "      <th>8</th>\n",
       "      <td>Due  COVID19  retail store  classroom  Atlanta    open  walk business  classes   next two weeks beginning Monday March 16  We  continue  process online  phone orders  normal Thank    understanding httpscokw91zJ5O5i</td>\n",
       "      <td>Positive</td>\n",
       "    </tr>\n",
       "    <tr>\n",
       "      <th>9</th>\n",
       "      <td>For corona prevention  stop  buy things   cash   use online payment methods  corona  spread   notes Also   prefer online shopping   home It time  fight  COVID 19 govindia IndiaFightsCorona</td>\n",
       "      <td>Negative</td>\n",
       "    </tr>\n",
       "    <tr>\n",
       "      <th>10</th>\n",
       "      <td>All month    crowding   supermarkets  restaurants however reducing   hours  closing  malls means everyone   using   entrance  dependent   single supermarket manila lockdown covid2019 Philippines httpscoHxWs9LAnF9</td>\n",
       "      <td>Neutral</td>\n",
       "    </tr>\n",
       "    <tr>\n",
       "      <th>11</th>\n",
       "      <td>Due   Covid19 situation   increased demand   food products The wait time may  longer   online orders particularly beef share  freezer packs We thank    patience   time</td>\n",
       "      <td>Extremely Positive</td>\n",
       "    </tr>\n",
       "    <tr>\n",
       "      <th>12</th>\n",
       "      <td>horningsea   caring community Let ALL look   less capable   village  ensure  stay healthy Bringing shopping   doors help  online shopping  self isolation    symptoms   exposed  somebody   httpscolsGrXXhjhh</td>\n",
       "      <td>Extremely Positive</td>\n",
       "    </tr>\n",
       "    <tr>\n",
       "      <th>13</th>\n",
       "      <td>Me I  need  stock   food I   Amazon deliver whatever I need CoronaVirusAmazon httpsco8YWaKFjExC</td>\n",
       "      <td>Positive</td>\n",
       "    </tr>\n",
       "    <tr>\n",
       "      <th>14</th>\n",
       "      <td>ADARA Releases COVID19 Resource Center  Travel Brands Insights Help Travel Brands Stay UpToDate  Consumer Travel Behavior Trends httpscoPnA797jDKV httpscodQox6uSihz</td>\n",
       "      <td>Positive</td>\n",
       "    </tr>\n",
       "  </tbody>\n",
       "</table>\n",
       "</div>"
      ],
      "text/plain": [
       "                                                                                                                                                                                                                            OriginalTweet  \\\n",
       "0                                                                                                                                                     MeNyrbie PhilGahan Chrisitv httpscoiFz9FAn2Pa  httpscoxX6ghGFzCC  httpscoI2NlzdxNo8   \n",
       "1                         advice Talk   neighbours family  exchange phone numbers create contact list  phone numbers  neighbours schools employer chemist GP set  online shopping accounts  poss adequate supplies  regular meds    order   \n",
       "2                                                                                                                Coronavirus Australia Woolworths  give elderly disabled dedicated shopping hours amid COVID19 outbreak httpscobInCA9Vp8P   \n",
       "3        My food stock     one   emptyPLEASE  panic THERE WILL BE ENOUGH FOOD FOR EVERYONE     take    need Stay calm stay safeCOVID19france COVID19 COVID19 coronavirus confinement Confinementotal ConfinementGeneral httpscozrlG0Z520j   \n",
       "4   Me ready  go  supermarket   COVID19 outbreakNot  I paranoid    food stock  litteraly empty The coronavirus   serious thing  please  panic It causes shortageCoronavirusFrance restezchezvous StayAtHome confinement httpscousmuaLq72n   \n",
       "5                     As news   region first confirmed COVID19 case came   Sullivan County last week people flocked  area stores  purchase cleaning supplies hand sanitizer food toilet paper   goods TimDodson reports httpscocfXch7a2lU   \n",
       "6                                                                                               Cashier  grocery store  sharing  insights  Covid19 To prove  credibility  commented I  Civics class  I know  I talking  httpscoieFDNeHgDO   \n",
       "7                                                                                                                                          Was   supermarket today Didn buy toilet paper Rebeltoiletpapercrisis covid19 httpscoeVXkQLIdAZ   \n",
       "8                  Due  COVID19  retail store  classroom  Atlanta    open  walk business  classes   next two weeks beginning Monday March 16  We  continue  process online  phone orders  normal Thank    understanding httpscokw91zJ5O5i   \n",
       "9                                            For corona prevention  stop  buy things   cash   use online payment methods  corona  spread   notes Also   prefer online shopping   home It time  fight  COVID 19 govindia IndiaFightsCorona   \n",
       "10                   All month    crowding   supermarkets  restaurants however reducing   hours  closing  malls means everyone   using   entrance  dependent   single supermarket manila lockdown covid2019 Philippines httpscoHxWs9LAnF9   \n",
       "11                                                                Due   Covid19 situation   increased demand   food products The wait time may  longer   online orders particularly beef share  freezer packs We thank    patience   time   \n",
       "12                          horningsea   caring community Let ALL look   less capable   village  ensure  stay healthy Bringing shopping   doors help  online shopping  self isolation    symptoms   exposed  somebody   httpscolsGrXXhjhh   \n",
       "13                                                                                                                                        Me I  need  stock   food I   Amazon deliver whatever I need CoronaVirusAmazon httpsco8YWaKFjExC   \n",
       "14                                                                   ADARA Releases COVID19 Resource Center  Travel Brands Insights Help Travel Brands Stay UpToDate  Consumer Travel Behavior Trends httpscoPnA797jDKV httpscodQox6uSihz   \n",
       "\n",
       "             Sentiment  \n",
       "0              Neutral  \n",
       "1             Positive  \n",
       "2             Positive  \n",
       "3             Positive  \n",
       "4   Extremely Negative  \n",
       "5             Positive  \n",
       "6             Positive  \n",
       "7              Neutral  \n",
       "8             Positive  \n",
       "9             Negative  \n",
       "10             Neutral  \n",
       "11  Extremely Positive  \n",
       "12  Extremely Positive  \n",
       "13            Positive  \n",
       "14            Positive  "
      ]
     },
     "execution_count": 11,
     "metadata": {},
     "output_type": "execute_result"
    }
   ],
   "source": [
    "df = df.replace(r'[^0-9a-zA-Z ]', '', regex=True)\n",
    "df.head(15)"
   ]
  },
  {
   "cell_type": "code",
   "execution_count": 12,
   "metadata": {
    "scrolled": true
   },
   "outputs": [
    {
     "data": {
      "text/html": [
       "<div>\n",
       "<style scoped>\n",
       "    .dataframe tbody tr th:only-of-type {\n",
       "        vertical-align: middle;\n",
       "    }\n",
       "\n",
       "    .dataframe tbody tr th {\n",
       "        vertical-align: top;\n",
       "    }\n",
       "\n",
       "    .dataframe thead th {\n",
       "        text-align: right;\n",
       "    }\n",
       "</style>\n",
       "<table border=\"1\" class=\"dataframe\">\n",
       "  <thead>\n",
       "    <tr style=\"text-align: right;\">\n",
       "      <th></th>\n",
       "      <th>OriginalTweet</th>\n",
       "      <th>Sentiment</th>\n",
       "    </tr>\n",
       "  </thead>\n",
       "  <tbody>\n",
       "    <tr>\n",
       "      <th>0</th>\n",
       "      <td>menyrbie philgahan chrisitv httpscoifz9fan2pa  httpscoxx6ghgfzcc  httpscoi2nlzdxno8</td>\n",
       "      <td>neutral</td>\n",
       "    </tr>\n",
       "    <tr>\n",
       "      <th>1</th>\n",
       "      <td>advice talk   neighbours family  exchange phone numbers create contact list  phone numbers  neighbours schools employer chemist gp set  online shopping accounts  poss adequate supplies  regular meds    order</td>\n",
       "      <td>positive</td>\n",
       "    </tr>\n",
       "    <tr>\n",
       "      <th>2</th>\n",
       "      <td>coronavirus australia woolworths  give elderly disabled dedicated shopping hours amid covid19 outbreak httpscobinca9vp8p</td>\n",
       "      <td>positive</td>\n",
       "    </tr>\n",
       "    <tr>\n",
       "      <th>3</th>\n",
       "      <td>my food stock     one   emptyplease  panic there will be enough food for everyone     take    need stay calm stay safecovid19france covid19 covid19 coronavirus confinement confinementotal confinementgeneral httpscozrlg0z520j</td>\n",
       "      <td>positive</td>\n",
       "    </tr>\n",
       "    <tr>\n",
       "      <th>4</th>\n",
       "      <td>me ready  go  supermarket   covid19 outbreaknot  i paranoid    food stock  litteraly empty the coronavirus   serious thing  please  panic it causes shortagecoronavirusfrance restezchezvous stayathome confinement httpscousmualq72n</td>\n",
       "      <td>extremely negative</td>\n",
       "    </tr>\n",
       "    <tr>\n",
       "      <th>5</th>\n",
       "      <td>as news   region first confirmed covid19 case came   sullivan county last week people flocked  area stores  purchase cleaning supplies hand sanitizer food toilet paper   goods timdodson reports httpscocfxch7a2lu</td>\n",
       "      <td>positive</td>\n",
       "    </tr>\n",
       "    <tr>\n",
       "      <th>6</th>\n",
       "      <td>cashier  grocery store  sharing  insights  covid19 to prove  credibility  commented i  civics class  i know  i talking  httpscoiefdnehgdo</td>\n",
       "      <td>positive</td>\n",
       "    </tr>\n",
       "    <tr>\n",
       "      <th>7</th>\n",
       "      <td>was   supermarket today didn buy toilet paper rebeltoiletpapercrisis covid19 httpscoevxkqlidaz</td>\n",
       "      <td>neutral</td>\n",
       "    </tr>\n",
       "    <tr>\n",
       "      <th>8</th>\n",
       "      <td>due  covid19  retail store  classroom  atlanta    open  walk business  classes   next two weeks beginning monday march 16  we  continue  process online  phone orders  normal thank    understanding httpscokw91zj5o5i</td>\n",
       "      <td>positive</td>\n",
       "    </tr>\n",
       "    <tr>\n",
       "      <th>9</th>\n",
       "      <td>for corona prevention  stop  buy things   cash   use online payment methods  corona  spread   notes also   prefer online shopping   home it time  fight  covid 19 govindia indiafightscorona</td>\n",
       "      <td>negative</td>\n",
       "    </tr>\n",
       "    <tr>\n",
       "      <th>10</th>\n",
       "      <td>all month    crowding   supermarkets  restaurants however reducing   hours  closing  malls means everyone   using   entrance  dependent   single supermarket manila lockdown covid2019 philippines httpscohxws9lanf9</td>\n",
       "      <td>neutral</td>\n",
       "    </tr>\n",
       "    <tr>\n",
       "      <th>11</th>\n",
       "      <td>due   covid19 situation   increased demand   food products the wait time may  longer   online orders particularly beef share  freezer packs we thank    patience   time</td>\n",
       "      <td>extremely positive</td>\n",
       "    </tr>\n",
       "    <tr>\n",
       "      <th>12</th>\n",
       "      <td>horningsea   caring community let all look   less capable   village  ensure  stay healthy bringing shopping   doors help  online shopping  self isolation    symptoms   exposed  somebody   httpscolsgrxxhjhh</td>\n",
       "      <td>extremely positive</td>\n",
       "    </tr>\n",
       "    <tr>\n",
       "      <th>13</th>\n",
       "      <td>me i  need  stock   food i   amazon deliver whatever i need coronavirusamazon httpsco8ywakfjexc</td>\n",
       "      <td>positive</td>\n",
       "    </tr>\n",
       "    <tr>\n",
       "      <th>14</th>\n",
       "      <td>adara releases covid19 resource center  travel brands insights help travel brands stay uptodate  consumer travel behavior trends httpscopna797jdkv httpscodqox6usihz</td>\n",
       "      <td>positive</td>\n",
       "    </tr>\n",
       "  </tbody>\n",
       "</table>\n",
       "</div>"
      ],
      "text/plain": [
       "                                                                                                                                                                                                                            OriginalTweet  \\\n",
       "0                                                                                                                                                     menyrbie philgahan chrisitv httpscoifz9fan2pa  httpscoxx6ghgfzcc  httpscoi2nlzdxno8   \n",
       "1                         advice talk   neighbours family  exchange phone numbers create contact list  phone numbers  neighbours schools employer chemist gp set  online shopping accounts  poss adequate supplies  regular meds    order   \n",
       "2                                                                                                                coronavirus australia woolworths  give elderly disabled dedicated shopping hours amid covid19 outbreak httpscobinca9vp8p   \n",
       "3        my food stock     one   emptyplease  panic there will be enough food for everyone     take    need stay calm stay safecovid19france covid19 covid19 coronavirus confinement confinementotal confinementgeneral httpscozrlg0z520j   \n",
       "4   me ready  go  supermarket   covid19 outbreaknot  i paranoid    food stock  litteraly empty the coronavirus   serious thing  please  panic it causes shortagecoronavirusfrance restezchezvous stayathome confinement httpscousmualq72n   \n",
       "5                     as news   region first confirmed covid19 case came   sullivan county last week people flocked  area stores  purchase cleaning supplies hand sanitizer food toilet paper   goods timdodson reports httpscocfxch7a2lu   \n",
       "6                                                                                               cashier  grocery store  sharing  insights  covid19 to prove  credibility  commented i  civics class  i know  i talking  httpscoiefdnehgdo   \n",
       "7                                                                                                                                          was   supermarket today didn buy toilet paper rebeltoiletpapercrisis covid19 httpscoevxkqlidaz   \n",
       "8                  due  covid19  retail store  classroom  atlanta    open  walk business  classes   next two weeks beginning monday march 16  we  continue  process online  phone orders  normal thank    understanding httpscokw91zj5o5i   \n",
       "9                                            for corona prevention  stop  buy things   cash   use online payment methods  corona  spread   notes also   prefer online shopping   home it time  fight  covid 19 govindia indiafightscorona   \n",
       "10                   all month    crowding   supermarkets  restaurants however reducing   hours  closing  malls means everyone   using   entrance  dependent   single supermarket manila lockdown covid2019 philippines httpscohxws9lanf9   \n",
       "11                                                                due   covid19 situation   increased demand   food products the wait time may  longer   online orders particularly beef share  freezer packs we thank    patience   time   \n",
       "12                          horningsea   caring community let all look   less capable   village  ensure  stay healthy bringing shopping   doors help  online shopping  self isolation    symptoms   exposed  somebody   httpscolsgrxxhjhh   \n",
       "13                                                                                                                                        me i  need  stock   food i   amazon deliver whatever i need coronavirusamazon httpsco8ywakfjexc   \n",
       "14                                                                   adara releases covid19 resource center  travel brands insights help travel brands stay uptodate  consumer travel behavior trends httpscopna797jdkv httpscodqox6usihz   \n",
       "\n",
       "             Sentiment  \n",
       "0              neutral  \n",
       "1             positive  \n",
       "2             positive  \n",
       "3             positive  \n",
       "4   extremely negative  \n",
       "5             positive  \n",
       "6             positive  \n",
       "7              neutral  \n",
       "8             positive  \n",
       "9             negative  \n",
       "10             neutral  \n",
       "11  extremely positive  \n",
       "12  extremely positive  \n",
       "13            positive  \n",
       "14            positive  "
      ]
     },
     "execution_count": 12,
     "metadata": {},
     "output_type": "execute_result"
    }
   ],
   "source": [
    "df = df.applymap(lambda s:s.lower() if type(s) == str else s)\n",
    "df.head(15)"
   ]
  },
  {
   "cell_type": "markdown",
   "metadata": {},
   "source": [
    "### 3: Split train and test dataset"
   ]
  },
  {
   "cell_type": "code",
   "execution_count": 13,
   "metadata": {},
   "outputs": [],
   "source": [
    "from sklearn.model_selection import train_test_split"
   ]
  },
  {
   "cell_type": "code",
   "execution_count": 14,
   "metadata": {},
   "outputs": [],
   "source": [
    "df1 = df.copy()"
   ]
  },
  {
   "cell_type": "code",
   "execution_count": 15,
   "metadata": {},
   "outputs": [],
   "source": [
    "X = df1.OriginalTweet\n",
    "y = df1.Sentiment\n",
    "X_train, X_test, y_train, y_test = train_test_split(X, y, test_size=0.30, random_state=42) "
   ]
  },
  {
   "cell_type": "code",
   "execution_count": 16,
   "metadata": {},
   "outputs": [],
   "source": [
    "# X = df1.drop('Sentiment', axis=1)\n",
    "# y = df1[[\"Sentiment\"]]\n",
    "# X_train, X_test, y_train, y_test = train_test_split(X, y, test_size=0.30, random_state=42) "
   ]
  },
  {
   "cell_type": "code",
   "execution_count": 17,
   "metadata": {
    "scrolled": true
   },
   "outputs": [
    {
     "data": {
      "text/plain": [
       "(28809,)"
      ]
     },
     "execution_count": 17,
     "metadata": {},
     "output_type": "execute_result"
    }
   ],
   "source": [
    "X_train.shape"
   ]
  },
  {
   "cell_type": "code",
   "execution_count": 18,
   "metadata": {},
   "outputs": [
    {
     "data": {
      "text/plain": [
       "(28809,)"
      ]
     },
     "execution_count": 18,
     "metadata": {},
     "output_type": "execute_result"
    }
   ],
   "source": [
    "y_train.shape"
   ]
  },
  {
   "cell_type": "markdown",
   "metadata": {},
   "source": [
    "### 4: Create pipeline and define parameters for GridSearch"
   ]
  },
  {
   "cell_type": "code",
   "execution_count": 19,
   "metadata": {},
   "outputs": [],
   "source": [
    "text_clf = Pipeline([('vect', CountVectorizer()),\n",
    "                 ('tfidf', TfidfTransformer()),\n",
    "                 ('clf', MultinomialNB())])\n"
   ]
  },
  {
   "cell_type": "code",
   "execution_count": 20,
   "metadata": {},
   "outputs": [],
   "source": [
    "tuned_parameters = {\n",
    "    'vect__ngram_range': [(1, 1), (1, 2), (2, 2)],\n",
    "    'tfidf__use_idf': (True, False),\n",
    "    'tfidf__norm': ('l1', 'l2'),\n",
    "    'clf__alpha': [1, 1e-1, 1e-2]\n",
    "}"
   ]
  },
  {
   "cell_type": "markdown",
   "metadata": {},
   "source": [
    "### 5: classification (using GridSearch) "
   ]
  },
  {
   "cell_type": "code",
   "execution_count": 30,
   "metadata": {},
   "outputs": [
    {
     "name": "stdout",
     "output_type": "stream",
     "text": [
      "Fitting 5 folds for each of 36 candidates, totalling 180 fits\n"
     ]
    },
    {
     "name": "stderr",
     "output_type": "stream",
     "text": [
      "[Parallel(n_jobs=-1)]: Using backend LokyBackend with 4 concurrent workers.\n",
      "[Parallel(n_jobs=-1)]: Done  42 tasks      | elapsed:   51.8s\n",
      "[Parallel(n_jobs=-1)]: Done 180 out of 180 | elapsed:  3.3min finished\n"
     ]
    },
    {
     "data": {
      "text/plain": [
       "GridSearchCV(cv=5,\n",
       "             estimator=Pipeline(steps=[('vect', CountVectorizer()),\n",
       "                                       ('tfidf', TfidfTransformer()),\n",
       "                                       ('clf', MultinomialNB())]),\n",
       "             n_jobs=-1,\n",
       "             param_grid={'clf__alpha': [1, 0.1, 0.01],\n",
       "                         'tfidf__norm': ('l1', 'l2'),\n",
       "                         'tfidf__use_idf': (True, False),\n",
       "                         'vect__ngram_range': [(1, 1), (1, 2), (2, 2)]},\n",
       "             scoring='accuracy', verbose=1)"
      ]
     },
     "execution_count": 30,
     "metadata": {},
     "output_type": "execute_result"
    }
   ],
   "source": [
    "clf1 = GridSearchCV(text_clf, tuned_parameters, cv=5, n_jobs=-1, verbose=1, scoring='accuracy')\n",
    "clf1.fit(X_train, y_train)"
   ]
  },
  {
   "cell_type": "markdown",
   "metadata": {},
   "source": [
    "### 6: confusion matrix, accuracy, F1 score on the test dataset"
   ]
  },
  {
   "cell_type": "code",
   "execution_count": 26,
   "metadata": {
    "scrolled": true
   },
   "outputs": [
    {
     "data": {
      "text/html": [
       "<div>\n",
       "<style scoped>\n",
       "    .dataframe tbody tr th:only-of-type {\n",
       "        vertical-align: middle;\n",
       "    }\n",
       "\n",
       "    .dataframe tbody tr th {\n",
       "        vertical-align: top;\n",
       "    }\n",
       "\n",
       "    .dataframe thead th {\n",
       "        text-align: right;\n",
       "    }\n",
       "</style>\n",
       "<table border=\"1\" class=\"dataframe\">\n",
       "  <thead>\n",
       "    <tr style=\"text-align: right;\">\n",
       "      <th>True</th>\n",
       "      <th>extremely negative</th>\n",
       "      <th>extremely positive</th>\n",
       "      <th>negative</th>\n",
       "      <th>neutral</th>\n",
       "      <th>positive</th>\n",
       "      <th>All</th>\n",
       "    </tr>\n",
       "    <tr>\n",
       "      <th>Predicted</th>\n",
       "      <th></th>\n",
       "      <th></th>\n",
       "      <th></th>\n",
       "      <th></th>\n",
       "      <th></th>\n",
       "      <th></th>\n",
       "    </tr>\n",
       "  </thead>\n",
       "  <tbody>\n",
       "    <tr>\n",
       "      <th>extremely negative</th>\n",
       "      <td>592</td>\n",
       "      <td>22</td>\n",
       "      <td>656</td>\n",
       "      <td>50</td>\n",
       "      <td>252</td>\n",
       "      <td>1572</td>\n",
       "    </tr>\n",
       "    <tr>\n",
       "      <th>extremely positive</th>\n",
       "      <td>25</td>\n",
       "      <td>820</td>\n",
       "      <td>181</td>\n",
       "      <td>49</td>\n",
       "      <td>914</td>\n",
       "      <td>1989</td>\n",
       "    </tr>\n",
       "    <tr>\n",
       "      <th>negative</th>\n",
       "      <td>369</td>\n",
       "      <td>135</td>\n",
       "      <td>1398</td>\n",
       "      <td>201</td>\n",
       "      <td>902</td>\n",
       "      <td>3005</td>\n",
       "    </tr>\n",
       "    <tr>\n",
       "      <th>neutral</th>\n",
       "      <td>83</td>\n",
       "      <td>100</td>\n",
       "      <td>477</td>\n",
       "      <td>883</td>\n",
       "      <td>749</td>\n",
       "      <td>2292</td>\n",
       "    </tr>\n",
       "    <tr>\n",
       "      <th>positive</th>\n",
       "      <td>103</td>\n",
       "      <td>505</td>\n",
       "      <td>763</td>\n",
       "      <td>261</td>\n",
       "      <td>1858</td>\n",
       "      <td>3490</td>\n",
       "    </tr>\n",
       "    <tr>\n",
       "      <th>All</th>\n",
       "      <td>1172</td>\n",
       "      <td>1582</td>\n",
       "      <td>3475</td>\n",
       "      <td>1444</td>\n",
       "      <td>4675</td>\n",
       "      <td>12348</td>\n",
       "    </tr>\n",
       "  </tbody>\n",
       "</table>\n",
       "</div>"
      ],
      "text/plain": [
       "True                extremely negative  extremely positive  negative  neutral  \\\n",
       "Predicted                                                                       \n",
       "extremely negative                 592                  22       656       50   \n",
       "extremely positive                  25                 820       181       49   \n",
       "negative                           369                 135      1398      201   \n",
       "neutral                             83                 100       477      883   \n",
       "positive                           103                 505       763      261   \n",
       "All                               1172                1582      3475     1444   \n",
       "\n",
       "True                positive    All  \n",
       "Predicted                            \n",
       "extremely negative       252   1572  \n",
       "extremely positive       914   1989  \n",
       "negative                 902   3005  \n",
       "neutral                  749   2292  \n",
       "positive                1858   3490  \n",
       "All                     4675  12348  "
      ]
     },
     "execution_count": 26,
     "metadata": {},
     "output_type": "execute_result"
    }
   ],
   "source": [
    "y_pred = clf.predict(X_test)\n",
    "pd.crosstab(y_test,y_pred,rownames=['Predicted'],colnames=['True'],margins=True)"
   ]
  },
  {
   "cell_type": "code",
   "execution_count": 25,
   "metadata": {},
   "outputs": [
    {
     "name": "stdout",
     "output_type": "stream",
     "text": [
      "Detailed classification report:\n",
      "                    precision    recall  f1-score   support\n",
      "\n",
      "extremely negative     0.5051    0.3766    0.4315      1572\n",
      "extremely positive     0.5183    0.4123    0.4593      1989\n",
      "          negative     0.4023    0.4652    0.4315      3005\n",
      "           neutral     0.6115    0.3853    0.4727      2292\n",
      "          positive     0.3974    0.5324    0.4551      3490\n",
      "\n",
      "          accuracy                         0.4495     12348\n",
      "         macro avg     0.4869    0.4343    0.4500     12348\n",
      "      weighted avg     0.4715    0.4495    0.4503     12348\n",
      "\n"
     ]
    }
   ],
   "source": [
    "print(\"Detailed classification report:\")\n",
    "print(classification_report(y_test, clf.predict(X_test), digits=4))"
   ]
  },
  {
   "cell_type": "code",
   "execution_count": 29,
   "metadata": {},
   "outputs": [
    {
     "name": "stdout",
     "output_type": "stream",
     "text": [
      "Accuracy : 0.44954648526077096\n",
      "f1 score : 0.45000696675851515\n"
     ]
    }
   ],
   "source": [
    "print('Accuracy :', accuracy_score(y_test, y_pred))\n",
    "print('f1 score :', f1_score(y_test, y_pred, average='macro'))"
   ]
  }
 ],
 "metadata": {
  "kernelspec": {
   "display_name": "Python 3",
   "language": "python",
   "name": "python3"
  },
  "language_info": {
   "codemirror_mode": {
    "name": "ipython",
    "version": 3
   },
   "file_extension": ".py",
   "mimetype": "text/x-python",
   "name": "python",
   "nbconvert_exporter": "python",
   "pygments_lexer": "ipython3",
   "version": "3.8.5"
  }
 },
 "nbformat": 4,
 "nbformat_minor": 4
}
